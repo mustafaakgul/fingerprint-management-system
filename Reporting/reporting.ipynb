{
 "cells": [
  {
   "cell_type": "code",
   "execution_count": 1,
   "metadata": {
    "ExecuteTime": {
     "end_time": "2020-07-16T03:03:51.794915Z",
     "start_time": "2020-07-16T03:03:51.202492Z"
    }
   },
   "outputs": [],
   "source": [
    "import pandas as pd \n",
    "import numpy as np\n",
    "import datetime\n"
   ]
  },
  {
   "cell_type": "code",
   "execution_count": 2,
   "metadata": {
    "ExecuteTime": {
     "end_time": "2020-07-16T03:03:51.860117Z",
     "start_time": "2020-07-16T03:03:51.799380Z"
    }
   },
   "outputs": [
    {
     "data": {
      "text/html": [
       "<div>\n",
       "<style scoped>\n",
       "    .dataframe tbody tr th:only-of-type {\n",
       "        vertical-align: middle;\n",
       "    }\n",
       "\n",
       "    .dataframe tbody tr th {\n",
       "        vertical-align: top;\n",
       "    }\n",
       "\n",
       "    .dataframe thead th {\n",
       "        text-align: right;\n",
       "    }\n",
       "</style>\n",
       "<table border=\"1\" class=\"dataframe\">\n",
       "  <thead>\n",
       "    <tr style=\"text-align: right;\">\n",
       "      <th></th>\n",
       "      <th>id</th>\n",
       "      <th>name</th>\n",
       "      <th>surname</th>\n",
       "      <th>tc</th>\n",
       "      <th>gender</th>\n",
       "      <th>memtelno</th>\n",
       "      <th>paremail</th>\n",
       "      <th>partelno</th>\n",
       "      <th>fingerprintID</th>\n",
       "    </tr>\n",
       "  </thead>\n",
       "  <tbody>\n",
       "    <tr>\n",
       "      <th>0</th>\n",
       "      <td>Mem001</td>\n",
       "      <td>James</td>\n",
       "      <td>Smith</td>\n",
       "      <td>NaN</td>\n",
       "      <td>E</td>\n",
       "      <td>NaN</td>\n",
       "      <td>NaN</td>\n",
       "      <td>NaN</td>\n",
       "      <td>NaN</td>\n",
       "    </tr>\n",
       "    <tr>\n",
       "      <th>1</th>\n",
       "      <td>Mem002</td>\n",
       "      <td>Michael</td>\n",
       "      <td>Smith</td>\n",
       "      <td>NaN</td>\n",
       "      <td>E</td>\n",
       "      <td>NaN</td>\n",
       "      <td>NaN</td>\n",
       "      <td>NaN</td>\n",
       "      <td>NaN</td>\n",
       "    </tr>\n",
       "    <tr>\n",
       "      <th>2</th>\n",
       "      <td>Mem003</td>\n",
       "      <td>Robert</td>\n",
       "      <td>Smith</td>\n",
       "      <td>NaN</td>\n",
       "      <td>E</td>\n",
       "      <td>NaN</td>\n",
       "      <td>NaN</td>\n",
       "      <td>NaN</td>\n",
       "      <td>NaN</td>\n",
       "    </tr>\n",
       "    <tr>\n",
       "      <th>3</th>\n",
       "      <td>Mem004</td>\n",
       "      <td>David</td>\n",
       "      <td>Smith</td>\n",
       "      <td>NaN</td>\n",
       "      <td>E</td>\n",
       "      <td>NaN</td>\n",
       "      <td>NaN</td>\n",
       "      <td>NaN</td>\n",
       "      <td>NaN</td>\n",
       "    </tr>\n",
       "    <tr>\n",
       "      <th>4</th>\n",
       "      <td>Mem005</td>\n",
       "      <td>Jane</td>\n",
       "      <td>Johnson</td>\n",
       "      <td>NaN</td>\n",
       "      <td>K</td>\n",
       "      <td>NaN</td>\n",
       "      <td>NaN</td>\n",
       "      <td>NaN</td>\n",
       "      <td>NaN</td>\n",
       "    </tr>\n",
       "  </tbody>\n",
       "</table>\n",
       "</div>"
      ],
      "text/plain": [
       "       id     name  surname  tc gender  memtelno  paremail  partelno  \\\n",
       "0  Mem001    James    Smith NaN      E       NaN       NaN       NaN   \n",
       "1  Mem002  Michael    Smith NaN      E       NaN       NaN       NaN   \n",
       "2  Mem003   Robert    Smith NaN      E       NaN       NaN       NaN   \n",
       "3  Mem004    David    Smith NaN      E       NaN       NaN       NaN   \n",
       "4  Mem005     Jane  Johnson NaN      K       NaN       NaN       NaN   \n",
       "\n",
       "   fingerprintID  \n",
       "0            NaN  \n",
       "1            NaN  \n",
       "2            NaN  \n",
       "3            NaN  \n",
       "4            NaN  "
      ]
     },
     "execution_count": 2,
     "metadata": {},
     "output_type": "execute_result"
    }
   ],
   "source": [
    "df_members = pd.read_csv('trackingsystem_student.csv')\n",
    "df_members.head()"
   ]
  },
  {
   "cell_type": "code",
   "execution_count": 3,
   "metadata": {
    "ExecuteTime": {
     "end_time": "2020-07-16T03:03:51.919532Z",
     "start_time": "2020-07-16T03:03:51.876334Z"
    }
   },
   "outputs": [
    {
     "data": {
      "text/html": [
       "<div>\n",
       "<style scoped>\n",
       "    .dataframe tbody tr th:only-of-type {\n",
       "        vertical-align: middle;\n",
       "    }\n",
       "\n",
       "    .dataframe tbody tr th {\n",
       "        vertical-align: top;\n",
       "    }\n",
       "\n",
       "    .dataframe thead th {\n",
       "        text-align: right;\n",
       "    }\n",
       "</style>\n",
       "<table border=\"1\" class=\"dataframe\">\n",
       "  <thead>\n",
       "    <tr style=\"text-align: right;\">\n",
       "      <th></th>\n",
       "      <th>id</th>\n",
       "      <th>fingerprintID</th>\n",
       "      <th>timestamp</th>\n",
       "      <th>state</th>\n",
       "    </tr>\n",
       "  </thead>\n",
       "  <tbody>\n",
       "    <tr>\n",
       "      <th>0</th>\n",
       "      <td>Mem001</td>\n",
       "      <td>1</td>\n",
       "      <td>06/21/2020 21:45:00</td>\n",
       "      <td>1</td>\n",
       "    </tr>\n",
       "    <tr>\n",
       "      <th>1</th>\n",
       "      <td>Mem002</td>\n",
       "      <td>2</td>\n",
       "      <td>06/21/2020 21:47:00</td>\n",
       "      <td>1</td>\n",
       "    </tr>\n",
       "    <tr>\n",
       "      <th>2</th>\n",
       "      <td>Mem003</td>\n",
       "      <td>3</td>\n",
       "      <td>06/21/2020 21:49:00</td>\n",
       "      <td>1</td>\n",
       "    </tr>\n",
       "    <tr>\n",
       "      <th>3</th>\n",
       "      <td>Mem004</td>\n",
       "      <td>4</td>\n",
       "      <td>06/21/2020 21:51:00</td>\n",
       "      <td>1</td>\n",
       "    </tr>\n",
       "    <tr>\n",
       "      <th>4</th>\n",
       "      <td>Mem005</td>\n",
       "      <td>5</td>\n",
       "      <td>06/21/2020 21:53:00</td>\n",
       "      <td>1</td>\n",
       "    </tr>\n",
       "  </tbody>\n",
       "</table>\n",
       "</div>"
      ],
      "text/plain": [
       "       id  fingerprintID            timestamp  state\n",
       "0  Mem001              1  06/21/2020 21:45:00      1\n",
       "1  Mem002              2  06/21/2020 21:47:00      1\n",
       "2  Mem003              3  06/21/2020 21:49:00      1\n",
       "3  Mem004              4  06/21/2020 21:51:00      1\n",
       "4  Mem005              5  06/21/2020 21:53:00      1"
      ]
     },
     "execution_count": 3,
     "metadata": {},
     "output_type": "execute_result"
    }
   ],
   "source": [
    "df_checkin = pd.read_csv('checkin.csv')\n",
    "df_checkin.head()"
   ]
  },
  {
   "cell_type": "markdown",
   "metadata": {
    "ExecuteTime": {
     "end_time": "2020-07-16T03:03:51.931311Z",
     "start_time": "2020-07-16T03:03:51.927417Z"
    }
   },
   "source": [
    "log içinde sorgulama örneği. "
   ]
  },
  {
   "cell_type": "code",
   "execution_count": 5,
   "metadata": {
    "ExecuteTime": {
     "end_time": "2020-07-16T03:03:51.977379Z",
     "start_time": "2020-07-16T03:03:51.934809Z"
    }
   },
   "outputs": [
    {
     "data": {
      "text/html": [
       "<div>\n",
       "<style scoped>\n",
       "    .dataframe tbody tr th:only-of-type {\n",
       "        vertical-align: middle;\n",
       "    }\n",
       "\n",
       "    .dataframe tbody tr th {\n",
       "        vertical-align: top;\n",
       "    }\n",
       "\n",
       "    .dataframe thead th {\n",
       "        text-align: right;\n",
       "    }\n",
       "</style>\n",
       "<table border=\"1\" class=\"dataframe\">\n",
       "  <thead>\n",
       "    <tr style=\"text-align: right;\">\n",
       "      <th></th>\n",
       "      <th>id</th>\n",
       "      <th>fingerprintID</th>\n",
       "      <th>timestamp</th>\n",
       "      <th>state</th>\n",
       "    </tr>\n",
       "  </thead>\n",
       "  <tbody>\n",
       "    <tr>\n",
       "      <th>3</th>\n",
       "      <td>Mem004</td>\n",
       "      <td>4</td>\n",
       "      <td>06/21/2020 21:51:00</td>\n",
       "      <td>1</td>\n",
       "    </tr>\n",
       "  </tbody>\n",
       "</table>\n",
       "</div>"
      ],
      "text/plain": [
       "       id  fingerprintID            timestamp  state\n",
       "3  Mem004              4  06/21/2020 21:51:00      1"
      ]
     },
     "execution_count": 5,
     "metadata": {},
     "output_type": "execute_result"
    }
   ],
   "source": [
    "df_checkin[df_checkin.id == 'Mem004']"
   ]
  },
  {
   "cell_type": "code",
   "execution_count": 6,
   "metadata": {
    "ExecuteTime": {
     "end_time": "2020-07-16T03:03:51.998481Z",
     "start_time": "2020-07-16T03:03:51.990541Z"
    },
    "tags": []
   },
   "outputs": [],
   "source": [
    "curTime = datetime.datetime.now()"
   ]
  },
  {
   "cell_type": "code",
   "execution_count": 8,
   "metadata": {
    "ExecuteTime": {
     "end_time": "2020-07-16T03:03:52.088624Z",
     "start_time": "2020-07-16T03:03:52.041360Z"
    },
    "scrolled": true
   },
   "outputs": [],
   "source": [
    "df_checkin['time_diff'] = df_checkin['state'] - 1"
   ]
  },
  {
   "cell_type": "markdown",
   "metadata": {
    "ExecuteTime": {
     "end_time": "2020-07-16T03:03:52.109701Z",
     "start_time": "2020-07-16T03:03:52.098558Z"
    }
   },
   "source": [
    "df_checkin['time_diff'] = curTime - df_checkin['timestamp'] . Orijinali bu ama time format nedeni ile çalışmadı"
   ]
  },
  {
   "cell_type": "code",
   "execution_count": 10,
   "metadata": {
    "ExecuteTime": {
     "end_time": "2020-07-16T03:03:52.138814Z",
     "start_time": "2020-07-16T03:03:52.112639Z"
    }
   },
   "outputs": [
    {
     "name": "stdout",
     "output_type": "stream",
     "text": [
      "        id  fingerprintID            timestamp  state  time_diff\n",
      "0   Mem001              1  06/21/2020 21:45:00      1          0\n",
      "1   Mem002              2  06/21/2020 21:47:00      1          0\n",
      "2   Mem003              3  06/21/2020 21:49:00      1          0\n",
      "3   Mem004              4  06/21/2020 21:51:00      1          0\n",
      "4   Mem005              5  06/21/2020 21:53:00      1          0\n",
      "5   Mem006              6  06/21/2020 21:55:00      1          0\n",
      "6   Mem007              7  06/21/2020 21:57:00      1          0\n",
      "7   Mem008              8  06/21/2020 21:59:00      1          0\n",
      "8   Mem009              9  06/21/2020 22:01:00      1          0\n",
      "9   Mem010             10  06/21/2020 22:03:00      1          0\n",
      "10  Mem011             11  06/21/2020 22:05:00      1          0\n",
      "11  Mem012             12  06/21/2020 22:07:00      1          0\n",
      "12  Mem013             13  06/20/2020 22:09:00      1          0\n",
      "13  Mem014             14  06/21/2020 22:11:00      1          0\n",
      "14  Mem015             15  06/21/2020 22:13:00      1          0\n",
      "15  Mem016             16  06/21/2020 22:15:00      1          0\n",
      "16  Mem017             17  06/20/2020 22:17:00      1          0\n",
      "17  Mem018             18  06/21/2020 22:19:00      1          0\n",
      "18  Mem019             19  06/21/2020 22:21:00      1          0\n",
      "19  Mem020             20  06/21/2020 22:23:00      1          0\n"
     ]
    }
   ],
   "source": [
    "print(df_checkin)"
   ]
  },
  {
   "cell_type": "markdown",
   "metadata": {
    "ExecuteTime": {
     "end_time": "2020-07-16T03:03:52.169675Z",
     "start_time": "2020-07-16T03:03:52.144104Z"
    }
   },
   "source": [
    "time_diff alanda yazılacak uygun bir rakam ile son bir saat içinde giriş yapanlar filtrelenecek"
   ]
  },
  {
   "cell_type": "code",
   "execution_count": 12,
   "metadata": {
    "ExecuteTime": {
     "end_time": "2020-07-16T03:03:52.193388Z",
     "start_time": "2020-07-16T03:03:52.177480Z"
    }
   },
   "outputs": [],
   "source": [
    "checkin_today = df_checkin[df_checkin.time_diff == 0]"
   ]
  },
  {
   "cell_type": "code",
   "execution_count": 13,
   "metadata": {
    "ExecuteTime": {
     "end_time": "2020-07-16T03:03:52.232764Z",
     "start_time": "2020-07-16T03:03:52.197606Z"
    }
   },
   "outputs": [
    {
     "name": "stdout",
     "output_type": "stream",
     "text": [
      "        id  fingerprintID            timestamp  state  time_diff\n",
      "0   Mem001              1  06/21/2020 21:45:00      1          0\n",
      "1   Mem002              2  06/21/2020 21:47:00      1          0\n",
      "2   Mem003              3  06/21/2020 21:49:00      1          0\n",
      "3   Mem004              4  06/21/2020 21:51:00      1          0\n",
      "4   Mem005              5  06/21/2020 21:53:00      1          0\n",
      "5   Mem006              6  06/21/2020 21:55:00      1          0\n",
      "6   Mem007              7  06/21/2020 21:57:00      1          0\n",
      "7   Mem008              8  06/21/2020 21:59:00      1          0\n",
      "8   Mem009              9  06/21/2020 22:01:00      1          0\n",
      "9   Mem010             10  06/21/2020 22:03:00      1          0\n",
      "10  Mem011             11  06/21/2020 22:05:00      1          0\n",
      "11  Mem012             12  06/21/2020 22:07:00      1          0\n",
      "12  Mem013             13  06/20/2020 22:09:00      1          0\n",
      "13  Mem014             14  06/21/2020 22:11:00      1          0\n",
      "14  Mem015             15  06/21/2020 22:13:00      1          0\n",
      "15  Mem016             16  06/21/2020 22:15:00      1          0\n",
      "16  Mem017             17  06/20/2020 22:17:00      1          0\n",
      "17  Mem018             18  06/21/2020 22:19:00      1          0\n",
      "18  Mem019             19  06/21/2020 22:21:00      1          0\n",
      "19  Mem020             20  06/21/2020 22:23:00      1          0\n"
     ]
    }
   ],
   "source": [
    "print(checkin_today)"
   ]
  },
  {
   "cell_type": "markdown",
   "metadata": {},
   "source": [
    "birlesik değişkeni belirli bir süre önce parmak okutan kişilerin (checkin_today) çoklu değerlerinin ayıklanması ardından üyeler listesi ile birleştirilmesidir.\n",
    "_merge sütunu ile listede yer alan isimleri parmak izi okutup okutmadığı görülür."
   ]
  },
  {
   "cell_type": "code",
   "execution_count": 14,
   "metadata": {
    "ExecuteTime": {
     "end_time": "2020-07-16T03:03:52.311920Z",
     "start_time": "2020-07-16T03:03:52.236444Z"
    }
   },
   "outputs": [],
   "source": [
    "birlesik = df_members.merge(checkin_today.drop_duplicates(), on=['id'],how='left',indicator=True)"
   ]
  },
  {
   "cell_type": "code",
   "execution_count": 15,
   "metadata": {
    "ExecuteTime": {
     "end_time": "2020-07-16T03:04:09.751155Z",
     "start_time": "2020-07-16T03:04:09.704181Z"
    }
   },
   "outputs": [
    {
     "name": "stdout",
     "output_type": "stream",
     "text": [
      "        id      name  surname  tc gender  memtelno  paremail  partelno  \\\n",
      "0   Mem001     James    Smith NaN      E       NaN       NaN       NaN   \n",
      "1   Mem002   Michael    Smith NaN      E       NaN       NaN       NaN   \n",
      "2   Mem003    Robert    Smith NaN      E       NaN       NaN       NaN   \n",
      "3   Mem004     David    Smith NaN      E       NaN       NaN       NaN   \n",
      "4   Mem005      Jane  Johnson NaN      K       NaN       NaN       NaN   \n",
      "..     ...       ...      ...  ..    ...       ...       ...       ...   \n",
      "95  Mem096   Charles    Jones NaN      E       NaN       NaN       NaN   \n",
      "96  Mem097      Mark  Johnson NaN      E       NaN       NaN       NaN   \n",
      "97  Mem098    Robert      Lee NaN      E       NaN       NaN       NaN   \n",
      "98  Mem099  Patricia  Johnson NaN      K       NaN       NaN       NaN   \n",
      "99  Mem100   Michael      Lee NaN      E       NaN       NaN       NaN   \n",
      "\n",
      "    fingerprintID_x  fingerprintID_y            timestamp  state  time_diff  \\\n",
      "0               NaN              1.0  06/21/2020 21:45:00    1.0        0.0   \n",
      "1               NaN              2.0  06/21/2020 21:47:00    1.0        0.0   \n",
      "2               NaN              3.0  06/21/2020 21:49:00    1.0        0.0   \n",
      "3               NaN              4.0  06/21/2020 21:51:00    1.0        0.0   \n",
      "4               NaN              5.0  06/21/2020 21:53:00    1.0        0.0   \n",
      "..              ...              ...                  ...    ...        ...   \n",
      "95              NaN              NaN                  NaN    NaN        NaN   \n",
      "96              NaN              NaN                  NaN    NaN        NaN   \n",
      "97              NaN              NaN                  NaN    NaN        NaN   \n",
      "98              NaN              NaN                  NaN    NaN        NaN   \n",
      "99              NaN              NaN                  NaN    NaN        NaN   \n",
      "\n",
      "       _merge  \n",
      "0        both  \n",
      "1        both  \n",
      "2        both  \n",
      "3        both  \n",
      "4        both  \n",
      "..        ...  \n",
      "95  left_only  \n",
      "96  left_only  \n",
      "97  left_only  \n",
      "98  left_only  \n",
      "99  left_only  \n",
      "\n",
      "[100 rows x 14 columns]\n"
     ]
    }
   ],
   "source": [
    "print(birlesik)"
   ]
  },
  {
   "cell_type": "markdown",
   "metadata": {},
   "source": [
    "girisyapmayan değişkeni birlesik listesinden giriş yapmayan kişilerin filtrelenmesidir."
   ]
  },
  {
   "cell_type": "code",
   "execution_count": 16,
   "metadata": {
    "ExecuteTime": {
     "end_time": "2020-07-16T03:06:13.881657Z",
     "start_time": "2020-07-16T03:06:13.862060Z"
    }
   },
   "outputs": [],
   "source": [
    "girisyapmayan = birlesik.query('_merge == \"left_only\"')"
   ]
  },
  {
   "cell_type": "code",
   "execution_count": 17,
   "metadata": {
    "ExecuteTime": {
     "end_time": "2020-07-16T03:06:28.625254Z",
     "start_time": "2020-07-16T03:06:28.583142Z"
    }
   },
   "outputs": [
    {
     "name": "stdout",
     "output_type": "stream",
     "text": [
      "        id      name   surname  tc gender  memtelno  paremail  partelno  \\\n",
      "20  Mem021   Michael    Miller NaN      E       NaN       NaN       NaN   \n",
      "21  Mem022    Robert     Jones NaN      E       NaN       NaN       NaN   \n",
      "22  Mem023      Rita  Williams NaN      K       NaN       NaN       NaN   \n",
      "23  Mem024   William   Johnson NaN      E       NaN       NaN       NaN   \n",
      "24  Mem025     James     Davis NaN      E       NaN       NaN       NaN   \n",
      "..     ...       ...       ...  ..    ...       ...       ...       ...   \n",
      "95  Mem096   Charles     Jones NaN      E       NaN       NaN       NaN   \n",
      "96  Mem097      Mark   Johnson NaN      E       NaN       NaN       NaN   \n",
      "97  Mem098    Robert       Lee NaN      E       NaN       NaN       NaN   \n",
      "98  Mem099  Patricia   Johnson NaN      K       NaN       NaN       NaN   \n",
      "99  Mem100   Michael       Lee NaN      E       NaN       NaN       NaN   \n",
      "\n",
      "    fingerprintID_x  fingerprintID_y timestamp  state  time_diff     _merge  \n",
      "20              NaN              NaN       NaN    NaN        NaN  left_only  \n",
      "21              NaN              NaN       NaN    NaN        NaN  left_only  \n",
      "22              NaN              NaN       NaN    NaN        NaN  left_only  \n",
      "23              NaN              NaN       NaN    NaN        NaN  left_only  \n",
      "24              NaN              NaN       NaN    NaN        NaN  left_only  \n",
      "..              ...              ...       ...    ...        ...        ...  \n",
      "95              NaN              NaN       NaN    NaN        NaN  left_only  \n",
      "96              NaN              NaN       NaN    NaN        NaN  left_only  \n",
      "97              NaN              NaN       NaN    NaN        NaN  left_only  \n",
      "98              NaN              NaN       NaN    NaN        NaN  left_only  \n",
      "99              NaN              NaN       NaN    NaN        NaN  left_only  \n",
      "\n",
      "[80 rows x 14 columns]\n"
     ]
    }
   ],
   "source": [
    "print(girisyapmayan)"
   ]
  },
  {
   "cell_type": "code",
   "execution_count": null,
   "metadata": {},
   "outputs": [],
   "source": []
  }
 ],
 "metadata": {
  "kernelspec": {
   "display_name": "Python 3.8.3 64-bit",
   "language": "python",
   "name": "python38364bit35cbba2968e84940bec13f70403263d0"
  },
  "language_info": {
   "codemirror_mode": {
    "name": "ipython",
    "version": 3
   },
   "file_extension": ".py",
   "mimetype": "text/x-python",
   "name": "python",
   "nbconvert_exporter": "python",
   "pygments_lexer": "ipython3",
   "version": "3.8.3"
  },
  "varInspector": {
   "cols": {
    "lenName": 16,
    "lenType": 16,
    "lenVar": 40
   },
   "kernels_config": {
    "python": {
     "delete_cmd_postfix": "",
     "delete_cmd_prefix": "del ",
     "library": "var_list.py",
     "varRefreshCmd": "print(var_dic_list())"
    },
    "r": {
     "delete_cmd_postfix": ") ",
     "delete_cmd_prefix": "rm(",
     "library": "var_list.r",
     "varRefreshCmd": "cat(var_dic_list()) "
    }
   },
   "types_to_exclude": [
    "module",
    "function",
    "builtin_function_or_method",
    "instance",
    "_Feature"
   ],
   "window_display": false
  }
 },
 "nbformat": 4,
 "nbformat_minor": 2
}
